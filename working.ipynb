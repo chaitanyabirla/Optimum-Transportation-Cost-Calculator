{
 "cells": [
  {
   "cell_type": "code",
   "execution_count": 2,
   "metadata": {},
   "outputs": [],
   "source": [
    "grid = [[3,2,6,5], [2,4,8,1], [11,10,14,7]]  # table\n",
    "supply = [15,12,12]  # supply\n",
    "demand = [8,17,10,4]  # demand\n",
    "INF = 10**5\n",
    "n = len(grid)\n",
    "m = len(grid[0])\n",
    "ans = 0"
   ]
  },
  {
   "cell_type": "code",
   "execution_count": null,
   "metadata": {},
   "outputs": [
    {
     "name": "stdout",
     "output_type": "stream",
     "text": [
      "\n",
      "Enter the cost matrix (row by row):\n",
      "\n",
      "Input Data:\n",
      "Supply: [30, 20, 50]\n",
      "Demand: [10, 40, 50]\n",
      "Cost Grid:\n",
      "[13, 14, 11]\n",
      "[50, 18, 9]\n",
      "[16, 23, 42]\n"
     ]
    }
   ],
   "source": []
  },
  {
   "cell_type": "code",
   "execution_count": 6,
   "metadata": {},
   "outputs": [
    {
     "data": {
      "text/plain": [
       "[[3, 4], [6, 1]]"
      ]
     },
     "execution_count": 6,
     "metadata": {},
     "output_type": "execute_result"
    }
   ],
   "source": [
    "grid"
   ]
  },
  {
   "cell_type": "code",
   "execution_count": 3,
   "metadata": {},
   "outputs": [],
   "source": [
    "\"\"\"Compute the difference step for the given grid.\"\"\"\n",
    "def Diff_step(grid): \n",
    "  rowdiff=[]# Compute the difference step in the x-direction\n",
    "  coldiff=[]# ''''----Opposite\n",
    "  for i in range(len(grid)):\n",
    "     arr = grid[i][:]\n",
    "     arr.sort()\n",
    "     rowdiff.append(arr[1]-arr[0])# finding difference\n",
    "  col=0\n",
    "  while col < len(grid[0]):\n",
    "    arr=[]\n",
    "\n",
    "    for i in range(len(grid)):\n",
    "      arr.append(grid[i][col])#pick up first values from each row\n",
    "    arr.sort()\n",
    "    col += 1\n",
    "    coldiff.append(arr[1]-arr[0])# finding difference columnwise\n",
    "  return rowdiff,coldiff"
   ]
  },
  {
   "cell_type": "code",
   "execution_count": 4,
   "metadata": {},
   "outputs": [
    {
     "name": "stdout",
     "output_type": "stream",
     "text": [
      "The basic feasible solution is  210\n"
     ]
    }
   ],
   "source": [
    "# loop runs until both the demand and the supply is exhausted\n",
    "while max(supply) != 0 or max(demand) != 0:\n",
    "    # finding the row and col difference\n",
    "    row, col = Diff_step(grid)\n",
    "    # finding the maxiumum element in row difference array\n",
    "    maxi1 = max(row)\n",
    "    # finding the maxiumum element in col difference array\n",
    "    maxi2 = max(col)\n",
    "    # if the row diff max element is greater than or equal to col diff max element\n",
    "    if(maxi1 >= maxi2):\n",
    "      for ind,val in enumerate(row):\n",
    "        if(val==maxi1):\n",
    "          # finding the minimum element in \n",
    "          # grid index where the maximum was found in the row difference\n",
    "          mini1=min(grid[ind])\n",
    "          for ind2,val2 in enumerate(grid[ind]):\n",
    "            if(val2 == mini1):\n",
    "              # calculating the min of supply and demand in that row and col\n",
    "                mini2 = min(supply[ind], demand[ind2])\n",
    "                ans += mini2 * mini1\n",
    "                # subtracting the min from the supply and demand\n",
    "                supply[ind] -= mini2\n",
    "                demand[ind2] -= mini2\n",
    "                # if demand is smaller then the entire col is assigned max value\n",
    "                # so that the col is eliminated for the next iteration\n",
    "                if (demand[ind2] == 0):\n",
    "                  for r in range(n):\n",
    "                    grid[r][ind2] = INF\n",
    "                        # if supply is smaller then the entire row is assigned max value so that the \n",
    "                        # row is eliminated for the next iteration\n",
    "                else:\n",
    "                    grid[ind] = [INF for i in range(m)]\n",
    "                break\n",
    "          break\n",
    "    # if the row diff max element is greater than col diff max element\n",
    "    else:\n",
    "      for ind, val in enumerate(col):\n",
    "        if(val == maxi2):\n",
    "        # finding the minimum element in grid index \n",
    "        # where the maximum was found in the col difference\n",
    "          mini1 = INF\n",
    "          for j in range (n):\n",
    "            mini1 = min(mini1, grid[j][ind])\n",
    "          for ind2 in range(n):\n",
    "            val2=grid[ind2][ind]\n",
    "            if (val2 == mini1):\n",
    "              # calculating the min of supply and demand in that row and col\n",
    "              mini2 = min(supply[ind2], demand[ind])\n",
    "              ans += mini2 * mini1\n",
    "              # subtracting the min from the supply and demand\n",
    "              supply[ind2] -= mini2\n",
    "              demand[ind] -= mini2             \n",
    "              # if demand is smaller then the entire col is assigned max value so that the col is eliminated for the next iteration\n",
    "              if(demand[ind] == 0):\n",
    "                  for r in range(n):\n",
    "                      grid[r][ind] = INF\n",
    "              # if supply is smaller then the entire row is assigned max value so that the row is eliminated for the next iteration\n",
    "              else:\n",
    "                  grid[ind2] = [INF for i in range(m)]\n",
    "              break\n",
    "          break\n",
    "\n",
    "print(\"The basic feasible solution is \", ans)"
   ]
  },
  {
   "cell_type": "code",
   "execution_count": 1,
   "metadata": {},
   "outputs": [
    {
     "ename": "KeyboardInterrupt",
     "evalue": "Interrupted by user",
     "output_type": "error",
     "traceback": [
      "\u001b[1;31m---------------------------------------------------------------------------\u001b[0m",
      "\u001b[1;31mKeyboardInterrupt\u001b[0m                         Traceback (most recent call last)",
      "Cell \u001b[1;32mIn[1], line 5\u001b[0m\n\u001b[0;32m      2\u001b[0m INF \u001b[38;5;241m=\u001b[39m \u001b[38;5;241m10\u001b[39m\u001b[38;5;241m*\u001b[39m\u001b[38;5;241m*\u001b[39m\u001b[38;5;241m5\u001b[39m\n\u001b[0;32m      4\u001b[0m \u001b[38;5;66;03m# Step 1: Get user input for the number of supply and demand points\u001b[39;00m\n\u001b[1;32m----> 5\u001b[0m n \u001b[38;5;241m=\u001b[39m \u001b[38;5;28mint\u001b[39m(\u001b[38;5;28;43minput\u001b[39;49m\u001b[43m(\u001b[49m\u001b[38;5;124;43m\"\u001b[39;49m\u001b[38;5;124;43mEnter the number of supply points: \u001b[39;49m\u001b[38;5;124;43m\"\u001b[39;49m\u001b[43m)\u001b[49m)\n\u001b[0;32m      6\u001b[0m m \u001b[38;5;241m=\u001b[39m \u001b[38;5;28mint\u001b[39m(\u001b[38;5;28minput\u001b[39m(\u001b[38;5;124m\"\u001b[39m\u001b[38;5;124mEnter the number of demand points: \u001b[39m\u001b[38;5;124m\"\u001b[39m))\n\u001b[0;32m      8\u001b[0m \u001b[38;5;66;03m# Step 2: Get user input for the supply amounts\u001b[39;00m\n",
      "File \u001b[1;32m~\\AppData\\Roaming\\Python\\Python312\\site-packages\\ipykernel\\kernelbase.py:1270\u001b[0m, in \u001b[0;36mKernel.raw_input\u001b[1;34m(self, prompt)\u001b[0m\n\u001b[0;32m   1268\u001b[0m     msg \u001b[38;5;241m=\u001b[39m \u001b[38;5;124m\"\u001b[39m\u001b[38;5;124mraw_input was called, but this frontend does not support input requests.\u001b[39m\u001b[38;5;124m\"\u001b[39m\n\u001b[0;32m   1269\u001b[0m     \u001b[38;5;28;01mraise\u001b[39;00m StdinNotImplementedError(msg)\n\u001b[1;32m-> 1270\u001b[0m \u001b[38;5;28;01mreturn\u001b[39;00m \u001b[38;5;28;43mself\u001b[39;49m\u001b[38;5;241;43m.\u001b[39;49m\u001b[43m_input_request\u001b[49m\u001b[43m(\u001b[49m\n\u001b[0;32m   1271\u001b[0m \u001b[43m    \u001b[49m\u001b[38;5;28;43mstr\u001b[39;49m\u001b[43m(\u001b[49m\u001b[43mprompt\u001b[49m\u001b[43m)\u001b[49m\u001b[43m,\u001b[49m\n\u001b[0;32m   1272\u001b[0m \u001b[43m    \u001b[49m\u001b[38;5;28;43mself\u001b[39;49m\u001b[38;5;241;43m.\u001b[39;49m\u001b[43m_parent_ident\u001b[49m\u001b[43m[\u001b[49m\u001b[38;5;124;43m\"\u001b[39;49m\u001b[38;5;124;43mshell\u001b[39;49m\u001b[38;5;124;43m\"\u001b[39;49m\u001b[43m]\u001b[49m\u001b[43m,\u001b[49m\n\u001b[0;32m   1273\u001b[0m \u001b[43m    \u001b[49m\u001b[38;5;28;43mself\u001b[39;49m\u001b[38;5;241;43m.\u001b[39;49m\u001b[43mget_parent\u001b[49m\u001b[43m(\u001b[49m\u001b[38;5;124;43m\"\u001b[39;49m\u001b[38;5;124;43mshell\u001b[39;49m\u001b[38;5;124;43m\"\u001b[39;49m\u001b[43m)\u001b[49m\u001b[43m,\u001b[49m\n\u001b[0;32m   1274\u001b[0m \u001b[43m    \u001b[49m\u001b[43mpassword\u001b[49m\u001b[38;5;241;43m=\u001b[39;49m\u001b[38;5;28;43;01mFalse\u001b[39;49;00m\u001b[43m,\u001b[49m\n\u001b[0;32m   1275\u001b[0m \u001b[43m\u001b[49m\u001b[43m)\u001b[49m\n",
      "File \u001b[1;32m~\\AppData\\Roaming\\Python\\Python312\\site-packages\\ipykernel\\kernelbase.py:1313\u001b[0m, in \u001b[0;36mKernel._input_request\u001b[1;34m(self, prompt, ident, parent, password)\u001b[0m\n\u001b[0;32m   1310\u001b[0m \u001b[38;5;28;01mexcept\u001b[39;00m \u001b[38;5;167;01mKeyboardInterrupt\u001b[39;00m:\n\u001b[0;32m   1311\u001b[0m     \u001b[38;5;66;03m# re-raise KeyboardInterrupt, to truncate traceback\u001b[39;00m\n\u001b[0;32m   1312\u001b[0m     msg \u001b[38;5;241m=\u001b[39m \u001b[38;5;124m\"\u001b[39m\u001b[38;5;124mInterrupted by user\u001b[39m\u001b[38;5;124m\"\u001b[39m\n\u001b[1;32m-> 1313\u001b[0m     \u001b[38;5;28;01mraise\u001b[39;00m \u001b[38;5;167;01mKeyboardInterrupt\u001b[39;00m(msg) \u001b[38;5;28;01mfrom\u001b[39;00m \u001b[38;5;28;01mNone\u001b[39;00m\n\u001b[0;32m   1314\u001b[0m \u001b[38;5;28;01mexcept\u001b[39;00m \u001b[38;5;167;01mException\u001b[39;00m:\n\u001b[0;32m   1315\u001b[0m     \u001b[38;5;28mself\u001b[39m\u001b[38;5;241m.\u001b[39mlog\u001b[38;5;241m.\u001b[39mwarning(\u001b[38;5;124m\"\u001b[39m\u001b[38;5;124mInvalid Message:\u001b[39m\u001b[38;5;124m\"\u001b[39m, exc_info\u001b[38;5;241m=\u001b[39m\u001b[38;5;28;01mTrue\u001b[39;00m)\n",
      "\u001b[1;31mKeyboardInterrupt\u001b[0m: Interrupted by user"
     ]
    }
   ],
   "source": [
    "# Define INF for unreachable routes or very high costs\n",
    "INF = 10**5\n",
    "\n",
    "# Step 1: Get user input for the number of supply and demand points\n",
    "n = int(input(\"Enter the number of supply points: \"))\n",
    "m = int(input(\"Enter the number of demand points: \"))\n",
    "\n",
    "# Step 2: Get user input for the supply amounts\n",
    "supply = []\n",
    "for i in range(n):\n",
    "    supply_amount = int(input(f\"Enter supply for supply point {i + 1}: \"))\n",
    "    supply.append(supply_amount)\n",
    "\n",
    "# Step 3: Get user input for the demand amounts\n",
    "demand = []\n",
    "for j in range(m):\n",
    "    demand_amount = int(input(f\"Enter demand for demand point {j + 1}: \"))\n",
    "    demand.append(demand_amount)\n",
    "\n",
    "# Step 4: Create the cost grid (matrix) with user input\n",
    "grid = []\n",
    "print(\"\\nEnter the cost matrix (row by row):\")\n",
    "for i in range(n):\n",
    "    row = []\n",
    "    for j in range(m):\n",
    "        cost = int(input(f\"Enter cost for transporting from supply point {i + 1} to demand point {j + 1}: \"))\n",
    "        row.append(cost)\n",
    "    grid.append(row)\n",
    "\n",
    "# Print the input data for confirmation\n",
    "print(\"\\nInput Data:\")\n",
    "print(\"Supply:\", supply)\n",
    "print(\"Demand:\", demand)\n",
    "print(\"Cost Grid:\")\n",
    "for row in grid:\n",
    "    print(row)\n",
    "\n",
    "# Example initialization of total cost variable\n",
    "ans = 0\n",
    "\n",
    "# Now you can add the rest of your logic for solving the transportation problem.\n",
    "# The variables `grid`, `supply`, `demand`, `n`, and `m` are now based on user input.\n",
    "\n"
   ]
  },
  {
   "cell_type": "code",
   "execution_count": null,
   "metadata": {},
   "outputs": [],
   "source": []
  }
 ],
 "metadata": {
  "kernelspec": {
   "display_name": "Python 3",
   "language": "python",
   "name": "python3"
  },
  "language_info": {
   "codemirror_mode": {
    "name": "ipython",
    "version": 3
   },
   "file_extension": ".py",
   "mimetype": "text/x-python",
   "name": "python",
   "nbconvert_exporter": "python",
   "pygments_lexer": "ipython3",
   "version": "3.12.1"
  }
 },
 "nbformat": 4,
 "nbformat_minor": 2
}
