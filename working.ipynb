{
 "cells": [
  {
   "cell_type": "code",
   "execution_count": 27,
   "metadata": {},
   "outputs": [],
   "source": [
    "grid = [[3,2,6], [12,4,8], [11,10,14]]  # table\n",
    "supply = [11,12,12]  # supply\n",
    "demand = [8,17,10]  # demand\n",
    "INF = 10**5\n",
    "n = len(grid)\n",
    "m = len(grid[0])\n",
    "ans = 0"
   ]
  },
  {
   "cell_type": "code",
   "execution_count": 28,
   "metadata": {},
   "outputs": [],
   "source": [
    "\"\"\"Compute the difference step for the given grid.\"\"\"\n",
    "def Diff_step(grid): \n",
    "  rowdiff=[]# Compute the difference step in the x-direction\n",
    "  coldiff=[]# ''''----Opposite\n",
    "  for i in range(len(grid)):\n",
    "     arr = grid[i][:]\n",
    "     arr.sort()\n",
    "     rowdiff.append(arr[1]-arr[0])# finding difference\n",
    "  col=0\n",
    "  while col < len(grid[0]):\n",
    "    arr=[]\n",
    "\n",
    "    for i in range(len(grid)):\n",
    "      arr.append(grid[i][col])#pick up first values from each row\n",
    "    arr.sort()\n",
    "    col += 1\n",
    "    coldiff.append(arr[1]-arr[0])# finding difference columnwise\n",
    "  return rowdiff,coldiff"
   ]
  },
  {
   "cell_type": "code",
   "execution_count": 29,
   "metadata": {},
   "outputs": [
    {
     "name": "stdout",
     "output_type": "stream",
     "text": [
      "The basic feasible solution is  238\n"
     ]
    }
   ],
   "source": [
    "# loop runs until both the demand and the supply is exhausted\n",
    "while max(supply) != 0 or max(demand) != 0:\n",
    "    # finding the row and col difference\n",
    "    row, col = Diff_step(grid)\n",
    "    # finding the maxiumum element in row difference array\n",
    "    maxi1 = max(row)\n",
    "    # finding the maxiumum element in col difference array\n",
    "    maxi2 = max(col)\n",
    "    # if the row diff max element is greater than or equal to col diff max element\n",
    "    if(maxi1 >= maxi2):\n",
    "      for ind,val in enumerate(row):\n",
    "        if(val==maxi1):\n",
    "          # finding the minimum element in \n",
    "          # grid index where the maximum was found in the row difference\n",
    "          mini1=min(grid[ind])\n",
    "          for ind2,val2 in enumerate(grid[ind]):\n",
    "            if(val2 == mini1):\n",
    "              # calculating the min of supply and demand in that row and col\n",
    "                mini2 = min(supply[ind], demand[ind2])\n",
    "                ans += mini2 * mini1\n",
    "                # subtracting the min from the supply and demand\n",
    "                supply[ind] -= mini2\n",
    "                demand[ind2] -= mini2\n",
    "                # if demand is smaller then the entire col is assigned max value\n",
    "                # so that the col is eliminated for the next iteration\n",
    "                if (demand[ind2] == 0):\n",
    "                  for r in range(n):\n",
    "                    grid[r][ind2] = INF\n",
    "                        # if supply is smaller then the entire row is assigned max value so that the \n",
    "                        # row is eliminated for the next iteration\n",
    "                else:\n",
    "                    grid[ind] = [INF for i in range(m)]\n",
    "                break\n",
    "          break\n",
    "    # if the row diff max element is greater than col diff max element\n",
    "    else:\n",
    "      for ind, val in enumerate(col):\n",
    "        if(val == maxi2):\n",
    "        # finding the minimum element in grid index \n",
    "        # where the maximum was found in the col difference\n",
    "          mini1 = INF\n",
    "          for j in range (n):\n",
    "            mini1 = min(mini1, grid[j][ind])\n",
    "          for ind2 in range(n):\n",
    "            val2=grid[ind2][ind]\n",
    "            if (val2 == mini1):\n",
    "              # calculating the min of supply and demand in that row and col\n",
    "              mini2 = min(supply[ind2], demand[ind])\n",
    "              ans += mini2 * mini1\n",
    "              # subtracting the min from the supply and demand\n",
    "              supply[ind2] -= mini2\n",
    "              demand[ind] -= mini2             \n",
    "              # if demand is smaller then the entire col is assigned max value so that the col is eliminated for the next iteration\n",
    "              if(demand[ind] == 0):\n",
    "                  for r in range(n):\n",
    "                      grid[r][ind] = INF\n",
    "              # if supply is smaller then the entire row is assigned max value so that the row is eliminated for the next iteration\n",
    "              else:\n",
    "                  grid[ind2] = [INF for i in range(m)]\n",
    "              break\n",
    "          break\n",
    "\n",
    "print(\"The basic feasible solution is \", ans)"
   ]
  }
 ],
 "metadata": {
  "kernelspec": {
   "display_name": "Python 3",
   "language": "python",
   "name": "python3"
  },
  "language_info": {
   "codemirror_mode": {
    "name": "ipython",
    "version": 3
   },
   "file_extension": ".py",
   "mimetype": "text/x-python",
   "name": "python",
   "nbconvert_exporter": "python",
   "pygments_lexer": "ipython3",
   "version": "3.12.1"
  }
 },
 "nbformat": 4,
 "nbformat_minor": 2
}
